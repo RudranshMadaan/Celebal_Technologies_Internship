{
 "cells": [
  {
   "cell_type": "markdown",
   "id": "889767d1-0c58-4546-8a74-e315cbc0a286",
   "metadata": {},
   "source": [
    "<hh>Create lower triangular, upper triangular and pyramid containing the \"*\" character.<hh>\n",
    "\n"
   ]
  },
  {
   "cell_type": "code",
   "execution_count": 177,
   "id": "de2dd00d-5a18-4db5-a3ef-57d7aa38618e",
   "metadata": {},
   "outputs": [
    {
     "name": "stdout",
     "output_type": "stream",
     "text": [
      "*\n",
      "**\n",
      "***\n",
      "****\n",
      "*****\n"
     ]
    }
   ],
   "source": [
    "line= 6;\n",
    "for i in range(1, line, 1):\n",
    "    print(\"*\" * i)"
   ]
  },
  {
   "cell_type": "code",
   "execution_count": 179,
   "id": "5df35a9c-fbdd-47d1-815e-db563b60f9aa",
   "metadata": {},
   "outputs": [
    {
     "name": "stdout",
     "output_type": "stream",
     "text": [
      "*****\n",
      "****\n",
      "***\n",
      "**\n",
      "*\n"
     ]
    }
   ],
   "source": [
    "line= 5;\n",
    "for i in range(5, 0, -1):\n",
    "    print(\"*\" * i)"
   ]
  },
  {
   "cell_type": "code",
   "execution_count": 231,
   "id": "37b96204-218f-473b-be93-392f33b7f422",
   "metadata": {},
   "outputs": [
    {
     "name": "stdout",
     "output_type": "stream",
     "text": [
      "     *\n",
      "    ***\n",
      "   *****\n",
      "  *******\n",
      " *********\n"
     ]
    }
   ],
   "source": [
    "line= 6;\n",
    "\n",
    "for i in range(1, line, 1):\n",
    "     print(\" \"*(line- i)+ \"*\" * i + \"*\" * (i-1))"
   ]
  },
  {
   "cell_type": "code",
   "execution_count": null,
   "id": "c4633561-6837-488e-b0e0-d0932044d02c",
   "metadata": {},
   "outputs": [],
   "source": []
  }
 ],
 "metadata": {
  "kernelspec": {
   "display_name": "Python 3 (ipykernel)",
   "language": "python",
   "name": "python3"
  },
  "language_info": {
   "codemirror_mode": {
    "name": "ipython",
    "version": 3
   },
   "file_extension": ".py",
   "mimetype": "text/x-python",
   "name": "python",
   "nbconvert_exporter": "python",
   "pygments_lexer": "ipython3",
   "version": "3.12.7"
  }
 },
 "nbformat": 4,
 "nbformat_minor": 5
}
